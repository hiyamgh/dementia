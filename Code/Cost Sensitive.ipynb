{
 "cells": [
  {
   "cell_type": "code",
   "execution_count": 1,
   "metadata": {
    "scrolled": true
   },
   "outputs": [
    {
     "name": "stdout",
     "output_type": "stream",
     "text": [
      "Collecting costcla\n",
      "\u001b[?25l  Downloading https://files.pythonhosted.org/packages/88/c4/1e2e6495e81d37c974d7f8ce6720afbe695bb1a918358aba72c5e1df7efe/costcla-0.6-py3-none-any.whl (4.0MB)\n",
      "\u001b[K     |████████████████████████████████| 4.0MB 452kB/s eta 0:00:01     |███▏                            | 389kB 270kB/s eta 0:00:14\n",
      "\u001b[?25hRequirement already satisfied: scikit-learn>=0.15.0b2 in /Users/roaa/opt/anaconda3/lib/python3.7/site-packages (from costcla) (0.21.3)\n",
      "Requirement already satisfied: numpy>=1.8.0 in /Users/roaa/opt/anaconda3/lib/python3.7/site-packages (from costcla) (1.17.2)\n",
      "Collecting pyea>=0.2 (from costcla)\n",
      "  Downloading https://files.pythonhosted.org/packages/e0/d1/628c0a358b105f4d3a33f46ac31b18f3ff468cd3402c73f3c0e9d02da025/pyea-0.2.tar.gz\n",
      "Requirement already satisfied: pandas>=0.14.0 in /Users/roaa/opt/anaconda3/lib/python3.7/site-packages (from costcla) (0.25.1)\n",
      "Requirement already satisfied: scipy>=0.17.0 in /Users/roaa/opt/anaconda3/lib/python3.7/site-packages (from scikit-learn>=0.15.0b2->costcla) (1.3.1)\n",
      "Requirement already satisfied: joblib>=0.11 in /Users/roaa/opt/anaconda3/lib/python3.7/site-packages (from scikit-learn>=0.15.0b2->costcla) (0.13.2)\n",
      "Requirement already satisfied: python-dateutil>=2.6.1 in /Users/roaa/opt/anaconda3/lib/python3.7/site-packages (from pandas>=0.14.0->costcla) (2.8.0)\n",
      "Requirement already satisfied: pytz>=2017.2 in /Users/roaa/opt/anaconda3/lib/python3.7/site-packages (from pandas>=0.14.0->costcla) (2019.3)\n",
      "Requirement already satisfied: six>=1.5 in /Users/roaa/opt/anaconda3/lib/python3.7/site-packages (from python-dateutil>=2.6.1->pandas>=0.14.0->costcla) (1.12.0)\n",
      "Building wheels for collected packages: pyea\n",
      "  Building wheel for pyea (setup.py) ... \u001b[?25ldone\n",
      "\u001b[?25h  Created wheel for pyea: filename=pyea-0.2-cp37-none-any.whl size=6016 sha256=0a35c901d7f877c0ff8d9f0164d3a1f5bc74d699bf7fa030bc74d0049ff329f9\n",
      "  Stored in directory: /Users/roaa/Library/Caches/pip/wheels/3c/bf/6e/06f8b0ed23cbc1fe956f8b6756535cb36f0b68c2f0f2342178\n",
      "Successfully built pyea\n",
      "Installing collected packages: pyea, costcla\n",
      "Successfully installed costcla-0.6 pyea-0.2\n"
     ]
    }
   ],
   "source": [
    "! pip install costcla"
   ]
  },
  {
   "cell_type": "code",
   "execution_count": 4,
   "metadata": {},
   "outputs": [],
   "source": [
    "from costcla.metrics import cost_loss, savings_score\n",
    "from costcla.models import CostSensitiveLogisticRegression, CostSensitiveDecisionTreeClassifier\n",
    "import numpy as np"
   ]
  },
  {
   "cell_type": "code",
   "execution_count": 5,
   "metadata": {},
   "outputs": [
    {
     "ename": "NameError",
     "evalue": "name 'y_train' is not defined",
     "traceback": [
      "\u001b[0;31m---------------------------------------------------------------------------\u001b[0m",
      "\u001b[0;31mNameError\u001b[0m                                 Traceback (most recent call last)",
      "\u001b[0;32m<ipython-input-5-6b73edfa8e7d>\u001b[0m in \u001b[0;36m<module>\u001b[0;34m\u001b[0m\n\u001b[0;32m----> 1\u001b[0;31m \u001b[0mcost_mat_train\u001b[0m \u001b[0;34m=\u001b[0m \u001b[0mnp\u001b[0m\u001b[0;34m.\u001b[0m\u001b[0mzeros\u001b[0m\u001b[0;34m(\u001b[0m\u001b[0;34m(\u001b[0m\u001b[0mlen\u001b[0m\u001b[0;34m(\u001b[0m\u001b[0my_train\u001b[0m\u001b[0;34m)\u001b[0m\u001b[0;34m,\u001b[0m\u001b[0;36m4\u001b[0m\u001b[0;34m)\u001b[0m\u001b[0;34m)\u001b[0m\u001b[0;34m\u001b[0m\u001b[0;34m\u001b[0m\u001b[0m\n\u001b[0m\u001b[1;32m      2\u001b[0m \u001b[0;31m#false positives cost 5\u001b[0m\u001b[0;34m\u001b[0m\u001b[0;34m\u001b[0m\u001b[0;34m\u001b[0m\u001b[0m\n\u001b[1;32m      3\u001b[0m \u001b[0mcost_mat_train\u001b[0m\u001b[0;34m[\u001b[0m\u001b[0;34m:\u001b[0m\u001b[0;34m,\u001b[0m\u001b[0;36m0\u001b[0m\u001b[0;34m]\u001b[0m\u001b[0;34m=\u001b[0m\u001b[0;36m5\u001b[0m\u001b[0;34m\u001b[0m\u001b[0;34m\u001b[0m\u001b[0m\n\u001b[1;32m      4\u001b[0m \u001b[0;31m#false negatives cost the transaction amount\u001b[0m\u001b[0;34m\u001b[0m\u001b[0;34m\u001b[0m\u001b[0;34m\u001b[0m\u001b[0m\n\u001b[1;32m      5\u001b[0m \u001b[0mcost_mat_train\u001b[0m\u001b[0;34m[\u001b[0m\u001b[0;34m:\u001b[0m\u001b[0;34m,\u001b[0m\u001b[0;36m1\u001b[0m\u001b[0;34m]\u001b[0m\u001b[0;34m=\u001b[0m\u001b[0mX_train\u001b[0m\u001b[0;34m[\u001b[0m\u001b[0;34m'Amount'\u001b[0m\u001b[0;34m]\u001b[0m\u001b[0;34m\u001b[0m\u001b[0;34m\u001b[0m\u001b[0m\n",
      "\u001b[0;31mNameError\u001b[0m: name 'y_train' is not defined"
     ],
     "output_type": "error"
    }
   ],
   "source": [
    "cost_mat_train = np.zeros((len(y_train),4))\n",
    "#false positives cost 5\n",
    "cost_mat_train[:,0]=5\n",
    "#false negatives cost the transaction amount\n",
    "cost_mat_train[:,1]=X_train['Amount']\n",
    "#true positives also cost 5\n",
    "cost_mat_train[:,2]=5\n",
    " \n",
    "cost_mat_test = np.zeros((len(y_test),4))\n",
    "cost_mat_test[:,0]=5\n",
    "cost_mat_test[:,1]=X_test['Amount']\n",
    "cost_mat_test[:,2]=5"
   ]
  },
  {
   "cell_type": "code",
   "execution_count": null,
   "metadata": {},
   "outputs": [],
   "source": [
    "f = CostSensitiveLogisticRegression()\n",
    "f.fit(np.array(X_train),np.array(y_train), cost_mat_train)\n",
    "y_pred_logistic_cslr = f.predict(X_test)\n",
    " \n",
    "g = CostSensitiveRandomForestClassifier()\n",
    "g.fit(np.array(X_train), np.array(y_train), cost_mat_train)\n",
    "y_pred_rf_cslr=g.predict(np.array(X_test))\n",
    " \n",
    "h = CostSensitiveDecisionTreeClassifier()\n",
    "h.fit(np.array(X_train), np.array(y_train), cost_mat_train)\n",
    "y_pred_tree_cslr = h.predict(np.array(X_test))"
   ]
  },
  {
   "cell_type": "code",
   "execution_count": null,
   "metadata": {},
   "outputs": [],
   "source": [
    "print('naive: logistic regression')\n",
    "print(cost_loss(y_test,y_pred_logistic,cost_mat_test))\n",
    "print('naive: random forest')\n",
    "print(cost_loss(y_test,y_pred_rf,cost_mat_test))\n",
    "print('naive: decision tree')\n",
    "print(cost_loss(y_test,y_pred_tree,cost_mat_test))\n",
    "print('logistic: cost sensitve learning')\n",
    "print(cost_loss(y_test,y_pred_logistic_cslr,cost_mat_test))\n",
    "print('random forest: cost sensitve learning')\n",
    "print(cost_loss(y_test,y_pred_rf_cslr,cost_mat_test))\n",
    "print('decision tree: cost sensitve learning')\n",
    "print(cost_loss(y_test,y_pred_tree_cslr,cost_mat_test))"
   ]
  }
 ],
 "metadata": {
  "kernelspec": {
   "display_name": "Python 3",
   "language": "python",
   "name": "python3"
  },
  "language_info": {
   "codemirror_mode": {
    "name": "ipython",
    "version": 3
   },
   "file_extension": ".py",
   "mimetype": "text/x-python",
   "name": "python",
   "nbconvert_exporter": "python",
   "pygments_lexer": "ipython3",
   "version": "3.7.4"
  }
 },
 "nbformat": 4,
 "nbformat_minor": 2
}
